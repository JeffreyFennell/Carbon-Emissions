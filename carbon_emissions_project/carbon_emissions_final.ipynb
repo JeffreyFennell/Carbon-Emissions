{
 "cells": [
  {
   "attachments": {},
   "cell_type": "markdown",
   "metadata": {},
   "source": [
    "# Carbon Emissions Around the World with a focus on the United States"
   ]
  },
  {
   "attachments": {},
   "cell_type": "markdown",
   "metadata": {},
   "source": [
    "#### Create your virtual environment, ensure you're in the correct directory, and install the requirements.txt."
   ]
  },
  {
   "cell_type": "code",
   "execution_count": 32,
   "metadata": {},
   "outputs": [],
   "source": [
    "# Import modules needed to run project.\n",
    "import pandas as pd\n",
    "import matplotlib.pyplot as plt\n",
    "import numpy as np\n",
    "import math\n"
   ]
  },
  {
   "attachments": {},
   "cell_type": "markdown",
   "metadata": {},
   "source": [
    "## Read in the Data"
   ]
  },
  {
   "cell_type": "code",
   "execution_count": 33,
   "metadata": {},
   "outputs": [
    {
     "name": "stdout",
     "output_type": "stream",
     "text": [
      "<class 'pandas.core.frame.DataFrame'>\n",
      "RangeIndex: 13953 entries, 0 to 13952\n",
      "Data columns (total 4 columns):\n",
      " #   Column        Non-Null Count  Dtype  \n",
      "---  ------        --------------  -----  \n",
      " 0   country_code  13953 non-null  object \n",
      " 1   country_name  13953 non-null  object \n",
      " 2   year          13953 non-null  int64  \n",
      " 3   value         13953 non-null  float64\n",
      "dtypes: float64(1), int64(1), object(2)\n",
      "memory usage: 436.2+ KB\n"
     ]
    },
    {
     "data": {
      "text/html": [
       "<div>\n",
       "<style scoped>\n",
       "    .dataframe tbody tr th:only-of-type {\n",
       "        vertical-align: middle;\n",
       "    }\n",
       "\n",
       "    .dataframe tbody tr th {\n",
       "        vertical-align: top;\n",
       "    }\n",
       "\n",
       "    .dataframe thead th {\n",
       "        text-align: right;\n",
       "    }\n",
       "</style>\n",
       "<table border=\"1\" class=\"dataframe\">\n",
       "  <thead>\n",
       "    <tr style=\"text-align: right;\">\n",
       "      <th></th>\n",
       "      <th>country_code</th>\n",
       "      <th>country_name</th>\n",
       "      <th>year</th>\n",
       "      <th>value</th>\n",
       "    </tr>\n",
       "  </thead>\n",
       "  <tbody>\n",
       "    <tr>\n",
       "      <th>0</th>\n",
       "      <td>ABW</td>\n",
       "      <td>Aruba</td>\n",
       "      <td>1960</td>\n",
       "      <td>11092.675</td>\n",
       "    </tr>\n",
       "    <tr>\n",
       "      <th>1</th>\n",
       "      <td>ABW</td>\n",
       "      <td>Aruba</td>\n",
       "      <td>1961</td>\n",
       "      <td>11576.719</td>\n",
       "    </tr>\n",
       "    <tr>\n",
       "      <th>2</th>\n",
       "      <td>ABW</td>\n",
       "      <td>Aruba</td>\n",
       "      <td>1962</td>\n",
       "      <td>12713.489</td>\n",
       "    </tr>\n",
       "    <tr>\n",
       "      <th>3</th>\n",
       "      <td>ABW</td>\n",
       "      <td>Aruba</td>\n",
       "      <td>1963</td>\n",
       "      <td>12178.107</td>\n",
       "    </tr>\n",
       "    <tr>\n",
       "      <th>4</th>\n",
       "      <td>ABW</td>\n",
       "      <td>Aruba</td>\n",
       "      <td>1964</td>\n",
       "      <td>11840.743</td>\n",
       "    </tr>\n",
       "  </tbody>\n",
       "</table>\n",
       "</div>"
      ],
      "text/plain": [
       "  country_code country_name  year      value\n",
       "0          ABW        Aruba  1960  11092.675\n",
       "1          ABW        Aruba  1961  11576.719\n",
       "2          ABW        Aruba  1962  12713.489\n",
       "3          ABW        Aruba  1963  12178.107\n",
       "4          ABW        Aruba  1964  11840.743"
      ]
     },
     "execution_count": 33,
     "metadata": {},
     "output_type": "execute_result"
    }
   ],
   "source": [
    "df = pd.read_csv('assets/co2_emissions_kt_by_country.csv')\n",
    "\n",
    "# Use .info() to get a general idea of what you're working with.\n",
    "df.info()\n",
    "# Use .head() to see what data types are present and to get your column headers.\n",
    "df.head()"
   ]
  },
  {
   "attachments": {},
   "cell_type": "markdown",
   "metadata": {},
   "source": [
    "## Clean the Data"
   ]
  },
  {
   "attachments": {},
   "cell_type": "markdown",
   "metadata": {},
   "source": [
    "## Consider revision!!!!!!!!!!!!!!\n",
    "- #### Drop unnecessary columns for better readability and overall cleanness. We don't need both country name and the country code so let's get rid of the country code.\n",
    "\n",
    "\n"
   ]
  },
  {
   "cell_type": "code",
   "execution_count": 23,
   "metadata": {},
   "outputs": [],
   "source": [
    "# ndf= df.drop(columns= 'country_code') ***can accomplish this using code to the left or using inplace= True as shown below. Use inplace if you want to overwright original df.***\n",
    "# df.drop(columns= 'country_code', inplace= True)\n",
    "# # Use .info() to check the dataframe again.\n",
    "# df.info()"
   ]
  },
  {
   "attachments": {},
   "cell_type": "markdown",
   "metadata": {},
   "source": [
    "- ##### The \"value\" column currently rounds to the thousandths place and it isn't entirely necessary for such a simple demonstration and won't significantly distort the data once it's visualized later so let's round the values to the hundredths instead."
   ]
  },
  {
   "cell_type": "code",
   "execution_count": 34,
   "metadata": {},
   "outputs": [
    {
     "data": {
      "text/html": [
       "<div>\n",
       "<style scoped>\n",
       "    .dataframe tbody tr th:only-of-type {\n",
       "        vertical-align: middle;\n",
       "    }\n",
       "\n",
       "    .dataframe tbody tr th {\n",
       "        vertical-align: top;\n",
       "    }\n",
       "\n",
       "    .dataframe thead th {\n",
       "        text-align: right;\n",
       "    }\n",
       "</style>\n",
       "<table border=\"1\" class=\"dataframe\">\n",
       "  <thead>\n",
       "    <tr style=\"text-align: right;\">\n",
       "      <th></th>\n",
       "      <th>country_code</th>\n",
       "      <th>country_name</th>\n",
       "      <th>year</th>\n",
       "      <th>value</th>\n",
       "    </tr>\n",
       "  </thead>\n",
       "  <tbody>\n",
       "    <tr>\n",
       "      <th>0</th>\n",
       "      <td>ABW</td>\n",
       "      <td>Aruba</td>\n",
       "      <td>1960</td>\n",
       "      <td>11092.68</td>\n",
       "    </tr>\n",
       "    <tr>\n",
       "      <th>1</th>\n",
       "      <td>ABW</td>\n",
       "      <td>Aruba</td>\n",
       "      <td>1961</td>\n",
       "      <td>11576.72</td>\n",
       "    </tr>\n",
       "    <tr>\n",
       "      <th>2</th>\n",
       "      <td>ABW</td>\n",
       "      <td>Aruba</td>\n",
       "      <td>1962</td>\n",
       "      <td>12713.49</td>\n",
       "    </tr>\n",
       "    <tr>\n",
       "      <th>3</th>\n",
       "      <td>ABW</td>\n",
       "      <td>Aruba</td>\n",
       "      <td>1963</td>\n",
       "      <td>12178.11</td>\n",
       "    </tr>\n",
       "    <tr>\n",
       "      <th>4</th>\n",
       "      <td>ABW</td>\n",
       "      <td>Aruba</td>\n",
       "      <td>1964</td>\n",
       "      <td>11840.74</td>\n",
       "    </tr>\n",
       "  </tbody>\n",
       "</table>\n",
       "</div>"
      ],
      "text/plain": [
       "  country_code country_name  year     value\n",
       "0          ABW        Aruba  1960  11092.68\n",
       "1          ABW        Aruba  1961  11576.72\n",
       "2          ABW        Aruba  1962  12713.49\n",
       "3          ABW        Aruba  1963  12178.11\n",
       "4          ABW        Aruba  1964  11840.74"
      ]
     },
     "execution_count": 34,
     "metadata": {},
     "output_type": "execute_result"
    }
   ],
   "source": [
    "df['value'] = df['value'].round(decimals=2)\n",
    "df.head()"
   ]
  },
  {
   "attachments": {},
   "cell_type": "markdown",
   "metadata": {},
   "source": [
    "- #### Rename columns for clarity. The reader won't know what the emissions were measured in based on the value column so let's be make it more accurate. Furthermore, I can format the other columns to achieve a cleaner, more professional look."
   ]
  },
  {
   "cell_type": "code",
   "execution_count": 35,
   "metadata": {},
   "outputs": [],
   "source": [
    "# Rename column/columns using \".rename() method\". Must format as dict {x:x}. Use \"inplace= True\" to save in current variable (df). Could also just create new variable (df2) and not include \"inplace= True\"\n",
    "df.rename(columns= {'value': 'Carbon Emissions (in kilotons)', 'country_name': 'Country', 'year': 'Year', 'country_code': 'Country Code'}, inplace= True)"
   ]
  },
  {
   "attachments": {},
   "cell_type": "markdown",
   "metadata": {},
   "source": [
    "## Analyze the data"
   ]
  },
  {
   "attachments": {},
   "cell_type": "markdown",
   "metadata": {},
   "source": [
    "- #### What quick insights can be gathered from this data?\n",
    "    - ##### How about I try to determine which 5 countries are emitting the most carbon as of 2019?"
   ]
  },
  {
   "cell_type": "code",
   "execution_count": 41,
   "metadata": {},
   "outputs": [
    {
     "data": {
      "text/html": [
       "<div>\n",
       "<style scoped>\n",
       "    .dataframe tbody tr th:only-of-type {\n",
       "        vertical-align: middle;\n",
       "    }\n",
       "\n",
       "    .dataframe tbody tr th {\n",
       "        vertical-align: top;\n",
       "    }\n",
       "\n",
       "    .dataframe thead th {\n",
       "        text-align: right;\n",
       "    }\n",
       "</style>\n",
       "<table border=\"1\" class=\"dataframe\">\n",
       "  <thead>\n",
       "    <tr style=\"text-align: right;\">\n",
       "      <th></th>\n",
       "      <th>Country Code</th>\n",
       "      <th>Country</th>\n",
       "      <th>Year</th>\n",
       "      <th>Carbon Emissions (in kilotons)</th>\n",
       "    </tr>\n",
       "  </thead>\n",
       "  <tbody>\n",
       "    <tr>\n",
       "      <th>13651</th>\n",
       "      <td>WLD</td>\n",
       "      <td>World</td>\n",
       "      <td>2019</td>\n",
       "      <td>34344006.07</td>\n",
       "    </tr>\n",
       "    <tr>\n",
       "      <th>5569</th>\n",
       "      <td>IBT</td>\n",
       "      <td>IDA &amp; IBRD total</td>\n",
       "      <td>2019</td>\n",
       "      <td>22442415.57</td>\n",
       "    </tr>\n",
       "    <tr>\n",
       "      <th>7578</th>\n",
       "      <td>LMY</td>\n",
       "      <td>Low &amp; middle income</td>\n",
       "      <td>2019</td>\n",
       "      <td>21909426.50</td>\n",
       "    </tr>\n",
       "    <tr>\n",
       "      <th>8254</th>\n",
       "      <td>MIC</td>\n",
       "      <td>Middle income</td>\n",
       "      <td>2019</td>\n",
       "      <td>21712598.06</td>\n",
       "    </tr>\n",
       "    <tr>\n",
       "      <th>5509</th>\n",
       "      <td>IBD</td>\n",
       "      <td>IBRD only</td>\n",
       "      <td>2019</td>\n",
       "      <td>21522419.75</td>\n",
       "    </tr>\n",
       "  </tbody>\n",
       "</table>\n",
       "</div>"
      ],
      "text/plain": [
       "      Country Code              Country  Year  Carbon Emissions (in kilotons)\n",
       "13651          WLD                World  2019                     34344006.07\n",
       "5569           IBT     IDA & IBRD total  2019                     22442415.57\n",
       "7578           LMY  Low & middle income  2019                     21909426.50\n",
       "8254           MIC        Middle income  2019                     21712598.06\n",
       "5509           IBD            IBRD only  2019                     21522419.75"
      ]
     },
     "execution_count": 41,
     "metadata": {},
     "output_type": "execute_result"
    }
   ],
   "source": [
    "filtered_df = df[df['Year'].between(2019, 2019)].sort_values(by='Year')\n",
    "sorted_df = filtered_df.sort_values(by='Carbon Emissions (in kilotons)', ascending=False)\n",
    "sorted_df.head()"
   ]
  },
  {
   "attachments": {},
   "cell_type": "markdown",
   "metadata": {},
   "source": [
    "- ##### Well that's odd, isn't it? I don't see a country in that list, do you? It appears that our dataframe has additional data point outside of simply countries. What can I do about that? Can I filter the dataframe so that only countries are shown? Let's find out!\n",
    "\n",
    "- #####  I'm going to need something that can allow me to sort these columns by country. A simple google search has pointed me to a nice github that has a compiled csv file of official country codes. Fortunately, my data has a column which utilizes alpha-3 country codes. AHA! I've found the variable by which I can filter my data. (A link to the raw url of the data can be found in the README. Additionally, I've copied that data to a csv in the event that something happens to the URL. That can also  be found in the README under \"backup_country_codes.csv\" )"
   ]
  },
  {
   "cell_type": "code",
   "execution_count": 37,
   "metadata": {},
   "outputs": [
    {
     "data": {
      "text/html": [
       "<div>\n",
       "<style scoped>\n",
       "    .dataframe tbody tr th:only-of-type {\n",
       "        vertical-align: middle;\n",
       "    }\n",
       "\n",
       "    .dataframe tbody tr th {\n",
       "        vertical-align: top;\n",
       "    }\n",
       "\n",
       "    .dataframe thead th {\n",
       "        text-align: right;\n",
       "    }\n",
       "</style>\n",
       "<table border=\"1\" class=\"dataframe\">\n",
       "  <thead>\n",
       "    <tr style=\"text-align: right;\">\n",
       "      <th></th>\n",
       "      <th>name</th>\n",
       "      <th>alpha-2</th>\n",
       "      <th>alpha-3</th>\n",
       "      <th>country-code</th>\n",
       "      <th>iso_3166-2</th>\n",
       "      <th>region</th>\n",
       "      <th>sub-region</th>\n",
       "      <th>intermediate-region</th>\n",
       "      <th>region-code</th>\n",
       "      <th>sub-region-code</th>\n",
       "      <th>intermediate-region-code</th>\n",
       "    </tr>\n",
       "  </thead>\n",
       "  <tbody>\n",
       "    <tr>\n",
       "      <th>0</th>\n",
       "      <td>Afghanistan</td>\n",
       "      <td>AF</td>\n",
       "      <td>AFG</td>\n",
       "      <td>4</td>\n",
       "      <td>ISO 3166-2:AF</td>\n",
       "      <td>Asia</td>\n",
       "      <td>Southern Asia</td>\n",
       "      <td>NaN</td>\n",
       "      <td>142.0</td>\n",
       "      <td>34.0</td>\n",
       "      <td>NaN</td>\n",
       "    </tr>\n",
       "    <tr>\n",
       "      <th>1</th>\n",
       "      <td>Åland Islands</td>\n",
       "      <td>AX</td>\n",
       "      <td>ALA</td>\n",
       "      <td>248</td>\n",
       "      <td>ISO 3166-2:AX</td>\n",
       "      <td>Europe</td>\n",
       "      <td>Northern Europe</td>\n",
       "      <td>NaN</td>\n",
       "      <td>150.0</td>\n",
       "      <td>154.0</td>\n",
       "      <td>NaN</td>\n",
       "    </tr>\n",
       "    <tr>\n",
       "      <th>2</th>\n",
       "      <td>Albania</td>\n",
       "      <td>AL</td>\n",
       "      <td>ALB</td>\n",
       "      <td>8</td>\n",
       "      <td>ISO 3166-2:AL</td>\n",
       "      <td>Europe</td>\n",
       "      <td>Southern Europe</td>\n",
       "      <td>NaN</td>\n",
       "      <td>150.0</td>\n",
       "      <td>39.0</td>\n",
       "      <td>NaN</td>\n",
       "    </tr>\n",
       "    <tr>\n",
       "      <th>3</th>\n",
       "      <td>Algeria</td>\n",
       "      <td>DZ</td>\n",
       "      <td>DZA</td>\n",
       "      <td>12</td>\n",
       "      <td>ISO 3166-2:DZ</td>\n",
       "      <td>Africa</td>\n",
       "      <td>Northern Africa</td>\n",
       "      <td>NaN</td>\n",
       "      <td>2.0</td>\n",
       "      <td>15.0</td>\n",
       "      <td>NaN</td>\n",
       "    </tr>\n",
       "    <tr>\n",
       "      <th>4</th>\n",
       "      <td>American Samoa</td>\n",
       "      <td>AS</td>\n",
       "      <td>ASM</td>\n",
       "      <td>16</td>\n",
       "      <td>ISO 3166-2:AS</td>\n",
       "      <td>Oceania</td>\n",
       "      <td>Polynesia</td>\n",
       "      <td>NaN</td>\n",
       "      <td>9.0</td>\n",
       "      <td>61.0</td>\n",
       "      <td>NaN</td>\n",
       "    </tr>\n",
       "  </tbody>\n",
       "</table>\n",
       "</div>"
      ],
      "text/plain": [
       "             name alpha-2 alpha-3  country-code     iso_3166-2   region  \\\n",
       "0     Afghanistan      AF     AFG             4  ISO 3166-2:AF     Asia   \n",
       "1   Åland Islands      AX     ALA           248  ISO 3166-2:AX   Europe   \n",
       "2         Albania      AL     ALB             8  ISO 3166-2:AL   Europe   \n",
       "3         Algeria      DZ     DZA            12  ISO 3166-2:DZ   Africa   \n",
       "4  American Samoa      AS     ASM            16  ISO 3166-2:AS  Oceania   \n",
       "\n",
       "        sub-region intermediate-region  region-code  sub-region-code  \\\n",
       "0    Southern Asia                 NaN        142.0             34.0   \n",
       "1  Northern Europe                 NaN        150.0            154.0   \n",
       "2  Southern Europe                 NaN        150.0             39.0   \n",
       "3  Northern Africa                 NaN          2.0             15.0   \n",
       "4        Polynesia                 NaN          9.0             61.0   \n",
       "\n",
       "   intermediate-region-code  \n",
       "0                       NaN  \n",
       "1                       NaN  \n",
       "2                       NaN  \n",
       "3                       NaN  \n",
       "4                       NaN  "
      ]
     },
     "execution_count": 37,
     "metadata": {},
     "output_type": "execute_result"
    }
   ],
   "source": [
    "\n",
    "# Read in country codes from a helpful github user. Thanks!\n",
    "country = pd.read_csv('https://raw.githubusercontent.com/lukes/ISO-3166-Countries-with-Regional-Codes/master/all/all.csv')\n",
    "# Let's check the headers\n",
    "country.head()\n"
   ]
  },
  {
   "cell_type": "code",
   "execution_count": 43,
   "metadata": {},
   "outputs": [
    {
     "name": "stdout",
     "output_type": "stream",
     "text": [
      "<class 'pandas.core.frame.DataFrame'>\n",
      "Int64Index: 11094 entries, 0 to 13952\n",
      "Data columns (total 4 columns):\n",
      " #   Column                          Non-Null Count  Dtype  \n",
      "---  ------                          --------------  -----  \n",
      " 0   Country Code                    11094 non-null  object \n",
      " 1   Country                         11094 non-null  object \n",
      " 2   Year                            11094 non-null  int64  \n",
      " 3   Carbon Emissions (in kilotons)  11094 non-null  float64\n",
      "dtypes: float64(1), int64(1), object(2)\n",
      "memory usage: 433.4+ KB\n"
     ]
    }
   ],
   "source": [
    "# We only need the alpha-3 column so let's assign that to its own variable.\n",
    "country_codes= country['alpha-3']\n",
    "# Use the above variable to filter our original dataframe so that only countries are displayed\n",
    "code_filtered_df = df[df['Country Code'].isin(country_codes)]\n",
    "# Check our work\n",
    "code_filtered_df.info()"
   ]
  },
  {
   "attachments": {},
   "cell_type": "markdown",
   "metadata": {},
   "source": [
    "- ##### Let's check our top 5 again. Our top 5 carbon-emitting countries happen to be China, USA, India, Russian Federation, and Japan."
   ]
  },
  {
   "cell_type": "code",
   "execution_count": 44,
   "metadata": {},
   "outputs": [
    {
     "data": {
      "text/html": [
       "<div>\n",
       "<style scoped>\n",
       "    .dataframe tbody tr th:only-of-type {\n",
       "        vertical-align: middle;\n",
       "    }\n",
       "\n",
       "    .dataframe tbody tr th {\n",
       "        vertical-align: top;\n",
       "    }\n",
       "\n",
       "    .dataframe thead th {\n",
       "        text-align: right;\n",
       "    }\n",
       "</style>\n",
       "<table border=\"1\" class=\"dataframe\">\n",
       "  <thead>\n",
       "    <tr style=\"text-align: right;\">\n",
       "      <th></th>\n",
       "      <th>Country Code</th>\n",
       "      <th>Country</th>\n",
       "      <th>Year</th>\n",
       "      <th>Carbon Emissions (in kilotons)</th>\n",
       "    </tr>\n",
       "  </thead>\n",
       "  <tbody>\n",
       "    <tr>\n",
       "      <th>2159</th>\n",
       "      <td>CHN</td>\n",
       "      <td>China</td>\n",
       "      <td>2019</td>\n",
       "      <td>10707219.73</td>\n",
       "    </tr>\n",
       "    <tr>\n",
       "      <th>13268</th>\n",
       "      <td>USA</td>\n",
       "      <td>United States</td>\n",
       "      <td>2019</td>\n",
       "      <td>4817720.21</td>\n",
       "    </tr>\n",
       "    <tr>\n",
       "      <th>5869</th>\n",
       "      <td>IND</td>\n",
       "      <td>India</td>\n",
       "      <td>2019</td>\n",
       "      <td>2456300.05</td>\n",
       "    </tr>\n",
       "    <tr>\n",
       "      <th>10753</th>\n",
       "      <td>RUS</td>\n",
       "      <td>Russian Federation</td>\n",
       "      <td>2019</td>\n",
       "      <td>1703589.97</td>\n",
       "    </tr>\n",
       "    <tr>\n",
       "      <th>6409</th>\n",
       "      <td>JPN</td>\n",
       "      <td>Japan</td>\n",
       "      <td>2019</td>\n",
       "      <td>1081569.95</td>\n",
       "    </tr>\n",
       "  </tbody>\n",
       "</table>\n",
       "</div>"
      ],
      "text/plain": [
       "      Country Code             Country  Year  Carbon Emissions (in kilotons)\n",
       "2159           CHN               China  2019                     10707219.73\n",
       "13268          USA       United States  2019                      4817720.21\n",
       "5869           IND               India  2019                      2456300.05\n",
       "10753          RUS  Russian Federation  2019                      1703589.97\n",
       "6409           JPN               Japan  2019                      1081569.95"
      ]
     },
     "execution_count": 44,
     "metadata": {},
     "output_type": "execute_result"
    }
   ],
   "source": [
    "code_filtered_df = code_filtered_df[code_filtered_df['Year'].between(2019, 2019)].sort_values(by='Year')\n",
    "new_df = code_filtered_df.sort_values(by='Carbon Emissions (in kilotons)', ascending=False)\n",
    "new_df.head()"
   ]
  },
  {
   "attachments": {},
   "cell_type": "markdown",
   "metadata": {},
   "source": [
    "- ##### Manipulate data for easier visualization later. Now that I've determined our top 5 carbon-emitting countries, I've gone ahead and created individual dataframes for them. As you'll see later in the analysis, creating these unique dataframes will allow me to make graphs a bit more easily."
   ]
  },
  {
   "cell_type": "code",
   "execution_count": null,
   "metadata": {},
   "outputs": [],
   "source": [
    "# Create df focused solely on USA data. If you read the line of code, then you'll see that we're creating a dataframe using data that is only associated with entries that contain \"United States.\"\n",
    "usa = df[df['Country'].str.contains('United States')]\n",
    "# Use .info() to determine how much data will be accounted for in the USA-focused dataframe.\n",
    "usa.info()"
   ]
  },
  {
   "attachments": {},
   "cell_type": "markdown",
   "metadata": {},
   "source": [
    "- ##### Now that I've shown you how to create country-specific data frames, let's go ahead and create the other four dataframes that we'll be comparing the USA to."
   ]
  },
  {
   "cell_type": "code",
   "execution_count": null,
   "metadata": {},
   "outputs": [],
   "source": [
    "# Create df for other prominent countries for future comparisons\n",
    "chn = df[df['Country'].str.contains('China')]\n",
    "ind = df[df['Country'].str.contains('India')]\n",
    "jpn = df[df['Country'].str.contains('Japan')]\n",
    "rus = df[df['Country'].str.contains('Russian Federation')]"
   ]
  },
  {
   "cell_type": "code",
   "execution_count": null,
   "metadata": {},
   "outputs": [],
   "source": [
    "# Check to see if dataframes created for the other five countries all have the same amount of rows and columns as our original USA dataframe.\n",
    "chn.info()\n",
    "ind.info()\n",
    "jpn.info()\n",
    "rus.info()\n"
   ]
  },
  {
   "attachments": {},
   "cell_type": "markdown",
   "metadata": {},
   "source": [
    "- ##### China seems to be the only divergent dataframe in terms of data output. Let's investigate to see what happened."
   ]
  },
  {
   "cell_type": "code",
   "execution_count": null,
   "metadata": {},
   "outputs": [],
   "source": [
    "chn"
   ]
  },
  {
   "attachments": {},
   "cell_type": "markdown",
   "metadata": {},
   "source": [
    "- ##### It seems as though \"China\" is included in the country name for multiple points in the original dataframe. I can make a slight modification to the original parameters of the code to ensure that it's stricter in its text selection. I simply change \".contains\" to \".match\" and it will focus only columns that strictly match \"China\". By using the code below the chn dataframe is now in line with the other country-specific dataframes created above.\n"
   ]
  },
  {
   "cell_type": "code",
   "execution_count": null,
   "metadata": {},
   "outputs": [],
   "source": [
    "chn = df[df['Country'].str.match('China')]\n",
    "chn.info()\n",
    "chn"
   ]
  },
  {
   "attachments": {},
   "cell_type": "markdown",
   "metadata": {},
   "source": [
    "## Visualize the data"
   ]
  },
  {
   "attachments": {},
   "cell_type": "markdown",
   "metadata": {},
   "source": [
    "##### Plotting the US Two ways"
   ]
  },
  {
   "cell_type": "code",
   "execution_count": null,
   "metadata": {},
   "outputs": [],
   "source": [
    "# .plot plotting implementation to visualize a line graph.\n",
    "# usa.plot.line(x ='Year', rot= 45, y= 'Carbon Emissions (in kilotons)', title = 'United States Carbon Emissions', figsize= (10, 5), grid= True)"
   ]
  },
  {
   "cell_type": "code",
   "execution_count": null,
   "metadata": {},
   "outputs": [],
   "source": [
    "# plt.show implementation to generate same graph differently.\n",
    "fig, ax = plt.subplots()\n",
    "ax.plot(usa['Year'], usa['Carbon Emissions (in kilotons)'])\n",
    "ax.set_xlabel('Year')\n",
    "ax.set_ylabel('Emissions  (in kilotons)')\n",
    "ax.set_title(\"United States Carbon Emissions\")\n",
    "ax.ticklabel_format(style='plain')\n",
    "# calculate and plot the trendline using the three lines of code below.\n",
    "z = np.polyfit(usa['Year'], usa['Carbon Emissions (in kilotons)'], 1)\n",
    "p = np.poly1d(z)\n",
    "ax.plot(usa['Year'], p(usa['Year']))\n",
    "plt.show()\n",
    "\n"
   ]
  },
  {
   "cell_type": "code",
   "execution_count": null,
   "metadata": {},
   "outputs": [],
   "source": [
    "# Comparing USA and Russia emissions with accompanying trendlines.\n",
    "fig, ax = plt.subplots()\n",
    "ax.scatter(usa['Year'], usa['Carbon Emissions (in kilotons)'])\n",
    "ax.scatter(rus['Year'], rus['Carbon Emissions (in kilotons)'])\n",
    "ax.set_xlabel('Year')\n",
    "ax.set_ylabel('Emissions  (in kilotons)')\n",
    "ax.set_title(\"Carbon Emissions: USA vs Russia\")\n",
    "ax.ticklabel_format(style='plain')\n",
    "z = np.polyfit(usa['Year'], usa['Carbon Emissions (in kilotons)'], 1)\n",
    "zz = np.polyfit(rus['Year'], rus['Carbon Emissions (in kilotons)'], 1)\n",
    "p = np.poly1d(z)\n",
    "pp = np.poly1d(zz)\n",
    "ax.plot(usa['Year'], p(usa['Year']))\n",
    "ax.plot(rus['Year'], pp(rus['Year']))\n",
    "ax.legend(['USA', 'Russia'])\n",
    "plt.show()"
   ]
  },
  {
   "cell_type": "code",
   "execution_count": null,
   "metadata": {},
   "outputs": [],
   "source": [
    "# Focusing on just the 1990s in the USA\n",
    "usa.loc[13239:13248]"
   ]
  },
  {
   "cell_type": "code",
   "execution_count": null,
   "metadata": {},
   "outputs": [],
   "source": [
    "# Experimenting with a focus on the 1990s trends in USA\n",
    "fig, ax = plt.subplots()\n",
    "ax.plot(usa['Year'].loc[13239:13248], usa['Carbon Emissions (in kilotons)'].loc[13239:13248])\n",
    "ax.set_xlabel('Year')\n",
    "ax.set_ylabel('Emissions  (in kilotons)')\n",
    "ax.set_title(\"United States Carbon Emissions\")\n",
    "ax.ticklabel_format(style='plain')\n",
    "# calculate and plot the trendline using the three lines of code below.\n",
    "z = np.polyfit(usa['Year'].loc[13239:13248], usa['Carbon Emissions (in kilotons)'].loc[13239:13248], 1)\n",
    "p = np.poly1d(z)\n",
    "ax.plot(usa['Year'].loc[13239:13248], p(usa['Year'].loc[13239:13248]))\n",
    "plt.show()"
   ]
  }
 ],
 "metadata": {
  "kernelspec": {
   "display_name": "base",
   "language": "python",
   "name": "python3"
  },
  "language_info": {
   "codemirror_mode": {
    "name": "ipython",
    "version": 3
   },
   "file_extension": ".py",
   "mimetype": "text/x-python",
   "name": "python",
   "nbconvert_exporter": "python",
   "pygments_lexer": "ipython3",
   "version": "3.10.9"
  },
  "orig_nbformat": 4
 },
 "nbformat": 4,
 "nbformat_minor": 2
}
